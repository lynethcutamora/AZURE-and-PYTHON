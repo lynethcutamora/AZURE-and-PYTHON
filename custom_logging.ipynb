{
  "nbformat": 4,
  "nbformat_minor": 0,
  "metadata": {
    "colab": {
      "provenance": [],
      "authorship_tag": "ABX9TyMXSNJJwO4H8wJnXHJnbtqg",
      "include_colab_link": true
    },
    "kernelspec": {
      "name": "python3",
      "display_name": "Python 3"
    },
    "language_info": {
      "name": "python"
    }
  },
  "cells": [
    {
      "cell_type": "markdown",
      "metadata": {
        "id": "view-in-github",
        "colab_type": "text"
      },
      "source": [
        "<a href=\"https://colab.research.google.com/github/lynethcutamora/AZURE-and-PYTHON/blob/main/custom_logging.ipynb\" target=\"_parent\"><img src=\"https://colab.research.google.com/assets/colab-badge.svg\" alt=\"Open In Colab\"/></a>"
      ]
    },
    {
      "cell_type": "code",
      "execution_count": 3,
      "metadata": {
        "colab": {
          "base_uri": "https://localhost:8080/"
        },
        "id": "LA-QkRv_mgK0",
        "outputId": "74e7141e-32e8-4350-8ca2-5abe24f0c083"
      },
      "outputs": [
        {
          "output_type": "stream",
          "name": "stderr",
          "text": [
            "DEBUG:finance_module_log:This is a debug message\n",
            "INFO:finance_module_log:This is an info message\n",
            "WARNING:finance_module_log:This is a warning message\n",
            "ERROR:finance_module_log:This is an error message\n",
            "CRITICAL:finance_module_log:This is a critical message\n",
            "INFO:finance_module_log:User logged in with password: mypassword\n"
          ]
        }
      ],
      "source": [
        "import logging\n",
        "\n",
        "logger = logging.getLogger('finance_module_log')\n",
        "logger.setLevel(logging.DEBUG)\n",
        "\n",
        "handler = logging.FileHandler('finance_module.log')\n",
        "formatter = logging.Formatter('%(asctime)s - %(name)s - %(levelname)s - %(message)s')\n",
        "handler.setFormatter(formatter)\n",
        "\n",
        "logger.addHandler(handler)\n",
        "#DEBUG - for development and debugging\n",
        "logger.debug('This is a debug message')\n",
        "\n",
        "#INFO - normal workflow events\n",
        "logger.info('This is an info message')\n",
        "\n",
        "#WARNING - potential issues or recoverable errors\n",
        "logger.warning('This is a warning message')\n",
        "\n",
        "#ERROR - serious issues needing immediate attention\n",
        "logger.error('This is an error message')\n",
        "\n",
        "#CRITICAL - sever errors causing application failure\n",
        "logger.critical('This is a critical message')\n",
        "\n",
        "\n",
        "\n",
        "\n",
        "#AVOID SENSITIVE INFORMATION (passwords, credit card numbers, or personal data)\n",
        "#example\n",
        "logging.basicConfig(level=logging.INFO)\n",
        "password='mypassword'\n",
        "logger.info(f'User logged in with password: {password}')\n",
        "\n"
      ]
    }
  ]
}